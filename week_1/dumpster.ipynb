{
 "cells": [
  {
   "cell_type": "code",
   "execution_count": 1,
   "metadata": {},
   "outputs": [],
   "source": [
    "#variables\n",
    "\n",
    "table_1 = {\n",
    "    \"company_name\" : \"ViewSoft\",\n",
    "    \"company_score\" : 4.8,\n",
    "    \"position\" : \"Software Engineer\",\n",
    "    \"location\" : \"Manassas, VA\",\n",
    "    \"pay\" : \"$68K\"\n",
    "}\n",
    "\n",
    "table_2 = {\n",
    "    \"company_name\" : \"ViewSoft\",\n",
    "    \"company_score\" : 4.8,\n",
    "    \"position\" : \"Software Engineer\",\n",
    "    \"location\" : \"Manassas, VA\",\n",
    "    \"pay\" : \"$68K\",\n",
    "    \"pay_in_usd\" : 68000,\n",
    "    \"pay_in_myr\" : 300560,\n",
    "    \"income_class\" : \"High\"\n",
    "}"
   ]
  },
  {
   "cell_type": "code",
   "execution_count": 6,
   "metadata": {},
   "outputs": [
    {
     "name": "stdout",
     "output_type": "stream",
     "text": [
      "{'company_name': 'ViewSoft', 'company_score': 4.8, 'position': 'Software Engineer', 'location': 'Manassas, VA', 'pay': '$68K', 'pay_in_usd': 68000, 'pay_in_myr': 300560.0, 'income_class': 'High'}\n"
     ]
    }
   ],
   "source": [
    "#self assessment\n",
    "\n",
    "new_table = {}\n",
    "\n",
    "for key in table_1:\n",
    "    new_table[key] = table_1[key]\n",
    "    if key == \"pay\":\n",
    "        new_table[\"pay_in_usd\"] = int(table_1[\"pay\"].replace(table_1[\"pay\"], \"68000\"))\n",
    "        new_table[\"pay_in_myr\"] = table_1[\"pay_in_usd\"]  * 4.42\n",
    "        if table_1[\"pay_in_myr\"] < 10000:\n",
    "            new_table[\"income_class\"] = \"Low\"\n",
    "        elif table_1[\"pay_in_myr\"] < 19999:\n",
    "            new_table[\"income_class\"] = \"Low\"\n",
    "        else:\n",
    "            new_table[\"income_class\"] = \"High\"\n",
    "\n",
    "print(table_1)"
   ]
  },
  {
   "cell_type": "code",
   "execution_count": null,
   "metadata": {},
   "outputs": [],
   "source": [
    "#symmetric difference vs intersection\n",
    "text = \"saya suka filipina\"\n",
    "banned_words"
   ]
  },
  {
   "cell_type": "code",
   "execution_count": null,
   "metadata": {},
   "outputs": [],
   "source": []
  }
 ],
 "metadata": {
  "kernelspec": {
   "display_name": "Python 3",
   "language": "python",
   "name": "python3"
  },
  "language_info": {
   "codemirror_mode": {
    "name": "ipython",
    "version": 3
   },
   "file_extension": ".py",
   "mimetype": "text/x-python",
   "name": "python",
   "nbconvert_exporter": "python",
   "pygments_lexer": "ipython3",
   "version": "3.10.13"
  }
 },
 "nbformat": 4,
 "nbformat_minor": 2
}
